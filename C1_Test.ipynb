{
 "cells": [
  {
   "cell_type": "code",
   "execution_count": 1,
   "metadata": {},
   "outputs": [],
   "source": [
    "import numpy as np\n",
    "import pandas as pd\n",
    "import matplotlib.pyplot as plt\n",
    "import seaborn as sns\n",
    "from sklearn.model_selection import train_test_split\n",
    "from sklearn.preprocessing import StandardScaler\n",
    "from sklearn.metrics import classification_report, confusion_matrix\n",
    "from sklearn.ensemble import RandomForestClassifier\n",
    "from scipy.stats import skew, kurtosis\n",
    "from scipy.fft import fft"
   ]
  },
  {
   "cell_type": "markdown",
   "metadata": {},
   "source": [
    "### 显示中文"
   ]
  },
  {
   "cell_type": "code",
   "execution_count": 2,
   "metadata": {},
   "outputs": [],
   "source": [
    "import matplotlib.pyplot as plt\n",
    "import matplotlib\n",
    "matplotlib.rcParams['font.sans-serif'] = ['SimHei'] \n",
    "\n",
    "matplotlib.rcParams['axes.unicode_minus'] = False"
   ]
  },
  {
   "cell_type": "code",
   "execution_count": null,
   "metadata": {},
   "outputs": [],
   "source": [
    "attachment1_file = 'D:\\\\AAALearn\\\\2024数学建模\\\\2024年中国研究生数学建模竞赛赛题\\\\C\\\\附件一（训练集）.xlsx'\n",
    "\n",
    "sheet_names = ['材料1', '材料2', '材料3', '材料4']\n",
    "\n",
    "\n",
    "material_models = {}\n",
    "material_scalers = {}\n",
    "material_core_loss = {}\n",
    "\n",
    "# 提取磁通密度特征\n",
    "def extract_features(df):\n",
    "    features = pd.DataFrame()\n",
    "    flux_density = df.iloc[:, 4:].values\n",
    "    \n",
    "    # 基础特征\n",
    "    features['Mean'] = np.mean(flux_density, axis=1)  \n",
    "    features['Std'] = np.std(flux_density, axis=1)\n",
    "    features['Max'] = np.max(flux_density, axis=1)\n",
    "    features['Min'] = np.min(flux_density, axis=1)\n",
    "    features['Peak-to-Peak'] = features['Max'] - features['Min']\n",
    "    features['Skewness'] = skew(flux_density, axis=1)\n",
    "    features['Kurtosis'] = kurtosis(flux_density, axis=1)\n",
    "    features['Zero_Crossing_Rate'] = ((np.diff(np.sign(flux_density)) != 0).sum(axis=1)) / flux_density.shape[1]\n",
    "    \n",
    "    # 傅里叶变换（FFT）： 提取频谱特征\n",
    "    fft_vals = np.abs(fft(flux_density))\n",
    "    features['FFT_Max'] = np.max(fft_vals[:, 1:], axis=1)\n",
    "    features['FFT_Mean'] = np.mean(fft_vals[:, 1:], axis=1)\n",
    "    features['FFT_Std'] = np.std(fft_vals[:, 1:], axis=1)\n",
    "    \n",
    "    # 一阶差分的特征\n",
    "    diff = np.diff(flux_density, axis=1)\n",
    "    features['Diff_Mean'] = np.mean(diff, axis=1)\n",
    "    features['Diff_Std'] = np.std(diff, axis=1)\n",
    "    features['Diff_Max'] = np.max(diff, axis=1)\n",
    "    features['Diff_Min'] = np.min(diff, axis=1)\n",
    "    \n",
    "    # 原始基础数据\n",
    "    features['Temperature'] = df.iloc[:, 0].values\n",
    "    features['Frequency'] = df.iloc[:, 1].values\n",
    "    features['Core_Loss'] = df.iloc[:, 2].values \n",
    "    \n",
    "    # 标签\n",
    "    wave_dict = {'正弦波': 1, '三角波': 2, '梯形波': 3}\n",
    "    features['Waveform'] = df.iloc[:, 3].map(wave_dict)\n",
    "    \n",
    "    return features"
   ]
  },
  {
   "cell_type": "markdown",
   "metadata": {},
   "source": [
    "###  遍历每个材料并训练模型，再将训练好的模型储存"
   ]
  },
  {
   "cell_type": "code",
   "execution_count": 14,
   "metadata": {
    "scrolled": false
   },
   "outputs": [
    {
     "name": "stdout",
     "output_type": "stream",
     "text": [
      "\n",
      "正在处理 材料1 ...\n",
      "\n",
      "材料1 的分类报告：\n",
      "              precision    recall  f1-score   support\n",
      "\n",
      "         正弦波       1.00      1.00      1.00       213\n",
      "         三角波       1.00      1.00      1.00       283\n",
      "         梯形波       1.00      1.00      1.00       184\n",
      "\n",
      "    accuracy                           1.00       680\n",
      "   macro avg       1.00      1.00      1.00       680\n",
      "weighted avg       1.00      1.00      1.00       680\n",
      "\n"
     ]
    },
    {
     "data": {
      "image/png": "[encoded data removed]",
      "text/plain": [
       "<Figure size 432x288 with 2 Axes>"
      ]
     },
     "metadata": {},
     "output_type": "display_data"
    },
    {
     "name": "stdout",
     "output_type": "stream",
     "text": [
      "\n",
      "正在处理 材料2 ...\n",
      "\n",
      "材料2 的分类报告：\n",
      "              precision    recall  f1-score   support\n",
      "\n",
      "         正弦波       1.00      1.00      1.00       219\n",
      "         三角波       1.00      1.00      1.00       201\n",
      "         梯形波       1.00      1.00      1.00       180\n",
      "\n",
      "    accuracy                           1.00       600\n",
      "   macro avg       1.00      1.00      1.00       600\n",
      "weighted avg       1.00      1.00      1.00       600\n",
      "\n"
     ]
    },
    {
     "data": {
      "image/png": "[encoded data removed]",
      "text/plain": [
       "<Figure size 432x288 with 2 Axes>"
      ]
     },
     "metadata": {},
     "output_type": "display_data"
    },
    {
     "name": "stdout",
     "output_type": "stream",
     "text": [
      "\n",
      "正在处理 材料3 ...\n",
      "\n",
      "材料3 的分类报告：\n",
      "              precision    recall  f1-score   support\n",
      "\n",
      "         正弦波       1.00      1.00      1.00       202\n",
      "         三角波       1.00      1.00      1.00       216\n",
      "         梯形波       1.00      1.00      1.00       222\n",
      "\n",
      "    accuracy                           1.00       640\n",
      "   macro avg       1.00      1.00      1.00       640\n",
      "weighted avg       1.00      1.00      1.00       640\n",
      "\n"
     ]
    },
    {
     "data": {
      "image/png": "[encoded data removed]",
      "text/plain": [
       "<Figure size 432x288 with 2 Axes>"
      ]
     },
     "metadata": {},
     "output_type": "display_data"
    },
    {
     "name": "stdout",
     "output_type": "stream",
     "text": [
      "\n",
      "正在处理 材料4 ...\n",
      "\n",
      "材料4 的分类报告：\n",
      "              precision    recall  f1-score   support\n",
      "\n",
      "         正弦波       1.00      1.00      1.00       176\n",
      "         三角波       1.00      1.00      1.00       291\n",
      "         梯形波       1.00      1.00      1.00        93\n",
      "\n",
      "    accuracy                           1.00       560\n",
      "   macro avg       1.00      1.00      1.00       560\n",
      "weighted avg       1.00      1.00      1.00       560\n",
      "\n"
     ]
    },
    {
     "data": {
      "image/png": "[encoded data removed]",
      "text/plain": [
       "<Figure size 432x288 with 2 Axes>"
      ]
     },
     "metadata": {},
     "output_type": "display_data"
    }
   ],
   "source": [
    "for sheet in sheet_names:\n",
    "    material_name = sheet\n",
    "    print(f\"\\n正在处理 {material_name} ...\")\n",
    "\n",
    "    df = pd.read_excel(attachment1_file, sheet_name=sheet)\n",
    "    features = extract_features(df)\n",
    "    avg_core_loss = features['Core_Loss'].mean()\n",
    "    material_core_loss[material_name] = avg_core_loss\n",
    "    X = features.drop(['Waveform'], axis=1)\n",
    "    y = features['Waveform']\n",
    "    \n",
    "    # 分割训练集和验证集\n",
    "    X_train, X_val, y_train, y_val = train_test_split(\n",
    "        X, y, test_size=0.2, random_state=42, stratify=y\n",
    "    )\n",
    "    scaler = StandardScaler()     # 将自己变量特征进行标准化处理\n",
    "    X_train_scaled = scaler.fit_transform(X_train)\n",
    "    X_val_scaled = scaler.transform(X_val)\n",
    "    \n",
    "    # 根据数据特征，选择随机森林进行预测\n",
    "    clf = RandomForestClassifier(n_estimators=100, random_state=42)\n",
    "    clf.fit(X_train_scaled, y_train)\n",
    "\n",
    "    y_pred = clf.predict(X_val_scaled)\n",
    "    \n",
    "    # 分类报告\n",
    "    print(f\"\\n{material_name} 的分类报告：\")\n",
    "    print(classification_report(y_val, y_pred, target_names=['正弦波', '三角波', '梯形波']))\n",
    "    \n",
    "    # 显示预测效果\n",
    "    cm = confusion_matrix(y_val, y_pred)\n",
    "    plt.figure(figsize=(6,4))\n",
    "    sns.heatmap(cm, annot=True, fmt='d', cmap='Blues',\n",
    "                xticklabels=['正弦波', '三角波', '梯形波'],\n",
    "                yticklabels=['正弦波', '三角波', '梯形波'])\n",
    "    plt.xlabel('预测')\n",
    "    plt.ylabel('真实')\n",
    "    plt.title(f'{material_name} 混淆矩阵')\n",
    "    plt.show()\n",
    "    \n",
    "    material_models[material_name] = clf\n",
    "    material_scalers[material_name] = scaler\n"
   ]
  },
  {
   "cell_type": "markdown",
   "metadata": {},
   "source": [
    "### 根据已训练的模型对附件二的数据进行预测"
   ]
  },
  {
   "cell_type": "code",
   "execution_count": 17,
   "metadata": {},
   "outputs": [
    {
     "name": "stdout",
     "output_type": "stream",
     "text": [
      "\n",
      "附件二的数据概览：\n",
      "<class 'pandas.core.frame.DataFrame'>\n",
      "RangeIndex: 80 entries, 0 to 79\n",
      "Columns: 1028 entries, 序号 to 1023\n",
      "dtypes: float64(1024), int64(3), object(1)\n",
      "memory usage: 642.6+ KB\n",
      "None\n",
      "   序号  温度，oC   频率，Hz 磁芯材料  0（磁通密度B，T）         1         2         3         4  \\\n",
      "0   1     25   56180  材料1   -0.101398 -0.099219 -0.097045 -0.094873 -0.092701   \n",
      "1   2     25  125890  材料1   -0.031775 -0.031081 -0.030391 -0.029704 -0.029019   \n",
      "2   3     25  224180  材料1   -0.066871 -0.065300 -0.063737 -0.062185 -0.060640   \n",
      "3   4     25  282480  材料1   -0.023190 -0.022634 -0.022084 -0.021540 -0.020998   \n",
      "4   5     50  199170  材料1   -0.077613 -0.075852 -0.074096 -0.072348 -0.070611   \n",
      "\n",
      "          5  ...      1014      1015      1016      1017      1018      1019  \\\n",
      "0 -0.090534  ... -0.106739 -0.106970 -0.107198 -0.107405 -0.107564 -0.107633   \n",
      "1 -0.028333  ... -0.034050 -0.034100 -0.034136 -0.034158 -0.034159 -0.034103   \n",
      "2 -0.059101  ... -0.074207 -0.074200 -0.074168 -0.074077 -0.073844 -0.073352   \n",
      "3 -0.020455  ... -0.027047 -0.027007 -0.026898 -0.026682 -0.026344 -0.025900   \n",
      "4 -0.068883  ... -0.084331 -0.084361 -0.084376 -0.084366 -0.084294 -0.084046   \n",
      "\n",
      "       1020      1021      1022      1023  \n",
      "0 -0.107374 -0.106567 -0.105241 -0.103473  \n",
      "1 -0.033926 -0.033588 -0.033087 -0.032461  \n",
      "2 -0.072520 -0.071357 -0.069958 -0.068436  \n",
      "3 -0.025387 -0.024845 -0.024297 -0.023745  \n",
      "4 -0.083461 -0.082435 -0.081015 -0.079358  \n",
      "\n",
      "[5 rows x 1028 columns]\n",
      "\n",
      "提取的测试集特征概览：\n",
      "           Mean       Std       Max       Min  Peak-to-Peak  Skewness  \\\n",
      "0  4.785154e-11  0.063244  0.110882 -0.107633      0.218515  0.023240   \n",
      "1  5.078125e-11  0.020080  0.035196 -0.034159      0.069355  0.021752   \n",
      "2  3.613283e-11  0.043947  0.076810 -0.074207      0.151017  0.018686   \n",
      "3 -5.468750e-11  0.016037  0.027927 -0.027051      0.054978  0.014625   \n",
      "4  1.953127e-11  0.049849  0.087156 -0.084376      0.171531  0.018690   \n",
      "\n",
      "   Kurtosis  Zero_Crossing_Rate    FFT_Max  FFT_Mean   FFT_Std     Diff_Mean  \\\n",
      "0 -1.198560            0.001953  39.006942  0.186790  2.016160 -2.028935e-06   \n",
      "1 -1.191968            0.001953  12.372038  0.059181  0.640160 -6.700684e-07   \n",
      "2 -1.196593            0.001953  27.056172  0.129836  1.401000 -1.530697e-06   \n",
      "3 -1.201477            0.001953   9.906209  0.046915  0.511282 -5.429550e-07   \n",
      "4 -1.197154            0.001953  30.716852  0.147093  1.589166 -1.705743e-06   \n",
      "\n",
      "   Diff_Std  Diff_Max  Diff_Min  Temperature  Frequency Material  \\\n",
      "0  0.000706  0.002178 -0.000300           25      56180      材料1   \n",
      "1  0.000223  0.000694 -0.000096           25     125890      材料1   \n",
      "2  0.000491  0.001571 -0.000228           25     224180      材料1   \n",
      "3  0.000176  0.000556 -0.000083           25     282480      材料1   \n",
      "4  0.000555  0.001761 -0.000251           50     199170      材料1   \n",
      "\n",
      "       Core_Loss  \n",
      "0  179886.944216  \n",
      "1  179886.944216  \n",
      "2  179886.944216  \n",
      "3  179886.944216  \n",
      "4  179886.944216  \n",
      "\n",
      "测试集的预测结果概览：\n",
      "    序号  Waveform_Code Predicted_Waveform\n",
      "0    1              2                三角波\n",
      "1    2              2                三角波\n",
      "2    3              2                三角波\n",
      "3    4              2                三角波\n",
      "4    5              2                三角波\n",
      "5    6              3                梯形波\n",
      "6    7              3                梯形波\n",
      "7    8              3                梯形波\n",
      "8    9              3                梯形波\n",
      "9   10              3                梯形波\n",
      "10  11              1                正弦波\n",
      "11  12              1                正弦波\n",
      "12  13              1                正弦波\n",
      "13  14              1                正弦波\n",
      "14  15              1                正弦波\n",
      "15  16              2                三角波\n",
      "16  17              2                三角波\n",
      "17  18              2                三角波\n",
      "18  19              2                三角波\n",
      "19  20              2                三角波\n"
     ]
    }
   ],
   "source": [
    "attachment2_file = 'D:\\\\AAALearn\\\\2024数学建模\\\\2024年中国研究生数学建模竞赛赛题\\\\C\\\\附件二（测试集）.xlsx'\n",
    "\n",
    "test_df = pd.read_excel(attachment2_file)\n",
    "\n",
    "# 查看测试集基本信息\n",
    "print(\"\\n附件二的数据概览：\")\n",
    "print(test_df.info())\n",
    "print(test_df.head())\n",
    "\n",
    "# 定义用于测试集的特征提取函数\n",
    "def extract_features_test(df, material_core_loss):\n",
    "    features = pd.DataFrame()\n",
    "    # 提取磁通密度数据（第5列到最后一列）\n",
    "    flux_density = df.iloc[:, 4:].values  # 从第5列开始，0-based index为4\n",
    "    \n",
    "    # 时域特征\n",
    "    features['Mean'] = np.mean(flux_density, axis=1)\n",
    "    features['Std'] = np.std(flux_density, axis=1)\n",
    "    features['Max'] = np.max(flux_density, axis=1)\n",
    "    features['Min'] = np.min(flux_density, axis=1)\n",
    "    features['Peak-to-Peak'] = features['Max'] - features['Min']\n",
    "    features['Skewness'] = skew(flux_density, axis=1)\n",
    "    features['Kurtosis'] = kurtosis(flux_density, axis=1)\n",
    "    features['Zero_Crossing_Rate'] = ((np.diff(np.sign(flux_density)) != 0).sum(axis=1)) / flux_density.shape[1]\n",
    "    \n",
    "    # 频域特征（FFT）\n",
    "    fft_vals = np.abs(fft(flux_density))\n",
    "    # 排除直流分量（第一列）\n",
    "    features['FFT_Max'] = np.max(fft_vals[:, 1:], axis=1)\n",
    "    features['FFT_Mean'] = np.mean(fft_vals[:, 1:], axis=1)\n",
    "    features['FFT_Std'] = np.std(fft_vals[:, 1:], axis=1)\n",
    "    \n",
    "    # 一阶差分特征\n",
    "    diff = np.diff(flux_density, axis=1)\n",
    "    features['Diff_Mean'] = np.mean(diff, axis=1)\n",
    "    features['Diff_Std'] = np.std(diff, axis=1)\n",
    "    features['Diff_Max'] = np.max(diff, axis=1)\n",
    "    features['Diff_Min'] = np.min(diff, axis=1)\n",
    "    \n",
    "    # 添加原始数据的其他信息\n",
    "    features['Temperature'] = df.iloc[:, 1].values  # 温度，°C\n",
    "    features['Frequency'] = df.iloc[:, 2].values    # 频率，Hz\n",
    "    features['Material'] = df.iloc[:, 3].values     # 磁芯材料\n",
    "    \n",
    "    # 根据“磁芯材料”分配“Core_Loss”特征\n",
    "    features['Core_Loss'] = features['Material'].map(material_core_loss)\n",
    "    \n",
    "    return features\n",
    "\n",
    "# 提取测试集特征\n",
    "test_features = extract_features_test(test_df, material_core_loss)\n",
    "\n",
    "# 查看提取的特征\n",
    "print(\"\\n提取的测试集特征概览：\")\n",
    "print(test_features.head())\n",
    "\n",
    "# 初始化一个列表来存储预测结果\n",
    "predictions = [0] * len(test_features)  # 预先填充为0\n",
    "\n",
    "for material in sheet_names:\n",
    "    material_indices = test_features[test_features['Material'] == material].index\n",
    "    if len(material_indices) == 0:\n",
    "        continue\n",
    "    \n",
    "    X_material = test_features.loc[material_indices].drop(['Material'], axis=1)\n",
    "    \n",
    "    model = material_models[material]\n",
    "    scaler = material_scalers[material]\n",
    "\n",
    "    X_material_scaled = scaler.transform(X_material)\n",
    "\n",
    "    y_material_pred = model.predict(X_material_scaled)\n",
    "\n",
    "    for idx, pred in zip(material_indices, y_material_pred):\n",
    "        predictions[idx] = pred\n",
    "\n",
    "test_df['Waveform_Code'] = predictions\n",
    "\n",
    "waveform_dict_rev = {1: '正弦波', 2: '三角波', 3: '梯形波'}\n",
    "test_df['Predicted_Waveform'] = test_df['Waveform_Code'].map(waveform_dict_rev)\n",
    "\n",
    "print(\"\\n测试集的预测结果概览：\")\n",
    "print(test_df[['序号', 'Waveform_Code', 'Predicted_Waveform']].head())\n"
   ]
  },
  {
   "cell_type": "code",
   "execution_count": 20,
   "metadata": {},
   "outputs": [
    {
     "name": "stdout",
     "output_type": "stream",
     "text": [
      "文件已成功保存为 D:\\AAALearn\\2024数学建模\\2024年中国研究生数学建模竞赛赛题\\C\\output.xlsx\n"
     ]
    }
   ],
   "source": [
    "output_path = \"D:\\\\AAALearn\\\\2024数学建模\\\\2024年中国研究生数学建模竞赛赛题\\\\C\\\\output.xlsx\"  # 设置输出的 Excel 文件路径\n",
    "test_df[['序号', 'Waveform_Code', 'Predicted_Waveform']].to_excel(output_path, index=False)\n",
    "\n",
    "print(f\"文件已成功保存为 {output_path}\")\n"
   ]
  },
  {
   "cell_type": "code",
   "execution_count": null,
   "metadata": {},
   "outputs": [],
   "source": []
  },
  {
   "cell_type": "code",
   "execution_count": 19,
   "metadata": {},
   "outputs": [
    {
     "name": "stdout",
     "output_type": "stream",
     "text": [
      "\n",
      "附件二中三种波形的数量：\n",
      "正弦波：20个\n",
      "三角波：44个\n",
      "梯形波：16个\n",
      "\n",
      "特定样本的分类结果：\n",
      "    序号  Waveform_Code\n",
      "0    1              2\n",
      "4    5              2\n",
      "14  15              1\n",
      "24  25              2\n",
      "34  35              3\n",
      "44  45              3\n",
      "54  55              2\n",
      "64  65              2\n",
      "74  75              2\n",
      "79  80              1\n"
     ]
    }
   ],
   "source": [
    "# 三种波形的数量\n",
    "waveform_counts = test_df['Waveform_Code'].value_counts().sort_index()\n",
    "waveform_types = {1: '正弦波', 2: '三角波', 3: '梯形波'}\n",
    "\n",
    "print(\"\\n附件二中三种波形的数量：\")\n",
    "for code in sorted(waveform_types.keys()):\n",
    "    count = waveform_counts.get(code, 0)\n",
    "    print(f\"{waveform_types[code]}：{count}个\")\n",
    "\n",
    "# 提取特定样本序号的分类结果\n",
    "sample_indices = [1, 5, 15, 25, 35, 45, 55, 65, 75, 80]\n",
    "specific_samples = test_df[test_df['序号'].isin(sample_indices)][['序号', 'Waveform_Code']].sort_values('序号')\n",
    "\n",
    "print(\"\\n特定样本的分类结果：\")\n",
    "print(specific_samples)\n",
    "\n"
   ]
  },
  {
   "cell_type": "code",
   "execution_count": null,
   "metadata": {},
   "outputs": [],
   "source": []
  },
  {
   "cell_type": "code",
   "execution_count": null,
   "metadata": {},
   "outputs": [],
   "source": []
  },
  {
   "cell_type": "code",
   "execution_count": null,
   "metadata": {},
   "outputs": [],
   "source": []
  },
  {
   "cell_type": "code",
   "execution_count": null,
   "metadata": {},
   "outputs": [],
   "source": []
  },
  {
   "cell_type": "code",
   "execution_count": null,
   "metadata": {},
   "outputs": [],
   "source": []
  },
  {
   "cell_type": "code",
   "execution_count": null,
   "metadata": {},
   "outputs": [],
   "source": []
  },
  {
   "cell_type": "code",
   "execution_count": null,
   "metadata": {},
   "outputs": [],
   "source": []
  },
  {
   "cell_type": "code",
   "execution_count": null,
   "metadata": {},
   "outputs": [],
   "source": []
  },
  {
   "cell_type": "code",
   "execution_count": null,
   "metadata": {},
   "outputs": [],
   "source": []
  },
  {
   "cell_type": "code",
   "execution_count": null,
   "metadata": {},
   "outputs": [],
   "source": []
  }
 ],
 "metadata": {
  "kernelspec": {
   "display_name": "Python 3",
   "language": "python",
   "name": "python3"
  },
  "language_info": {
   "codemirror_mode": {
    "name": "ipython",
    "version": 3
   },
   "file_extension": ".py",
   "mimetype": "text/x-python",
   "name": "python",
   "nbconvert_exporter": "python",
   "pygments_lexer": "ipython3",
   "version": "3.6.5"
  }
 },
 "nbformat": 4,
 "nbformat_minor": 2
}
